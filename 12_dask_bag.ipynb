{
 "cells": [
  {
   "cell_type": "markdown",
   "metadata": {},
   "source": [
    "# Dask Bag"
   ]
  },
  {
   "cell_type": "markdown",
   "metadata": {},
   "source": [
    "Материалы: \n",
    "* Макрушин С.В. Лекция 12: Map-Reduce\n",
    "* https://docs.dask.org/en/latest/bag.html\n",
    "* JESSE C. DANIEL. Data Science with Python and Dask. "
   ]
  },
  {
   "cell_type": "markdown",
   "metadata": {},
   "source": [
    "## Задачи для совместного разбора"
   ]
  },
  {
   "cell_type": "markdown",
   "metadata": {},
   "source": [
    "1. Считайте файл `Dostoevskiy Fedor. Igrok - BooksCafe.Net.txt` и разбейте на предложения. Подсчитайте длину (в кол-ве символов) каждого предложения."
   ]
  },
  {
   "cell_type": "code",
   "execution_count": 68,
   "outputs": [
    {
     "name": "stderr",
     "output_type": "stream",
     "text": [
      "[nltk_data] Downloading package punkt to\n",
      "[nltk_data]     C:\\Users\\Саня\\AppData\\Roaming\\nltk_data...\n",
      "[nltk_data]   Package punkt is already up-to-date!\n"
     ]
    },
    {
     "data": {
      "text/plain": "True"
     },
     "execution_count": 68,
     "metadata": {},
     "output_type": "execute_result"
    }
   ],
   "source": [
    "import nltk\n",
    "nltk.download('punkt')"
   ],
   "metadata": {
    "collapsed": false,
    "ExecuteTime": {
     "start_time": "2023-04-14T15:02:30.744989Z",
     "end_time": "2023-04-14T15:02:30.780014Z"
    }
   }
  },
  {
   "cell_type": "code",
   "execution_count": 69,
   "outputs": [],
   "source": [
    "def simple_reader():\n",
    "    with open(r\"Dostoevskiy Fedor. Igrok - BooksCafe.Net.txt\", 'r') as f:\n",
    "        text = \" \".join(f.read().replace(\"\\n\", ' ').split(' '))\n",
    "\n",
    "    sentences = nltk.sent_tokenize(text)\n",
    "    return sentences\n",
    "\n",
    "answer = simple_reader()"
   ],
   "metadata": {
    "collapsed": false,
    "ExecuteTime": {
     "start_time": "2023-04-14T15:02:31.165504Z",
     "end_time": "2023-04-14T15:02:31.312317Z"
    }
   }
  },
  {
   "cell_type": "code",
   "execution_count": 70,
   "outputs": [
    {
     "name": "stdout",
     "output_type": "stream",
     "text": [
      "[287, 133, 41, 60, 90, 48, 69, 140, 130, 61, 38, 36, 32, 17, 55, 50, 52, 56, 96, 30]\n",
      "Олейников Адександр\n"
     ]
    }
   ],
   "source": [
    "print(list(map(lambda x: len(x), answer))[:20])\n",
    "print(\"Олейников Адександр\")"
   ],
   "metadata": {
    "collapsed": false,
    "ExecuteTime": {
     "start_time": "2023-04-14T15:02:31.564910Z",
     "end_time": "2023-04-14T15:02:31.583305Z"
    }
   }
  },
  {
   "cell_type": "markdown",
   "metadata": {},
   "source": [
    "2. Считайте файл `Dostoevskiy Fedor. Igrok - BooksCafe.Net.txt` и разбейте на предложения. Выведите предложения, длина которых не более 10 символов."
   ]
  },
  {
   "cell_type": "code",
   "execution_count": 71,
   "outputs": [
    {
     "name": "stdout",
     "output_type": "stream",
     "text": [
      "['— ton).]', '—\\xa0Плюнуть?', '«Как!', '—\\xa0Почему?', '—\\xa0Как!', 'Чудо!', 'А?', 'Как зачем?', '—\\xa0Как?', '—\\xa0Кого?']\n",
      "Олейников Александр\n"
     ]
    }
   ],
   "source": [
    "print(list(filter(lambda x: len(x) <= 10, answer))[:10])\n",
    "print(\"Олейников Александр\")"
   ],
   "metadata": {
    "collapsed": false,
    "ExecuteTime": {
     "start_time": "2023-04-14T15:02:32.413139Z",
     "end_time": "2023-04-14T15:02:32.437142Z"
    }
   }
  },
  {
   "cell_type": "markdown",
   "metadata": {},
   "source": [
    "3. На основе списка предложений из задачи 1-2 создайте `dask.bag`. Рассчитайте среднюю длину предложений в тексте."
   ]
  },
  {
   "cell_type": "code",
   "execution_count": 72,
   "outputs": [
    {
     "name": "stdout",
     "output_type": "stream",
     "text": [
      "72.89840944073885\n",
      "Олейников Александр\n"
     ]
    }
   ],
   "source": [
    "import dask.bag as db\n",
    "b = db.from_sequence(answer, npartitions=10)\n",
    "result = (b.map(len).fold(lambda x, y: x+y, lambda x, y: x+y))\n",
    "print(result.compute()/len(answer))\n",
    "print(\"Олейников Александр\")"
   ],
   "metadata": {
    "collapsed": false,
    "ExecuteTime": {
     "start_time": "2023-04-14T15:02:33.292051Z",
     "end_time": "2023-04-14T15:02:33.826120Z"
    }
   }
  },
  {
   "cell_type": "markdown",
   "metadata": {},
   "source": [
    "4. На основе файла `addres_book.json` создайте `dask.bag`. Посчитайте количество мобильных и рабочих телефонов в наборе данных"
   ]
  },
  {
   "cell_type": "code",
   "execution_count": 73,
   "outputs": [],
   "source": [
    "import json\n",
    "with open(r\"addres-book.json\", \"r\") as read_file:\n",
    "    data = json.load(read_file)"
   ],
   "metadata": {
    "collapsed": false,
    "ExecuteTime": {
     "start_time": "2023-04-14T15:02:34.063319Z",
     "end_time": "2023-04-14T15:02:34.091665Z"
    }
   }
  },
  {
   "cell_type": "code",
   "execution_count": 74,
   "outputs": [],
   "source": [
    "def read_phones(dictionary):\n",
    "    phones = []\n",
    "    for p in dictionary.get('phones', []):\n",
    "        phones.append(p.get('phone', ''))\n",
    "    return phones"
   ],
   "metadata": {
    "collapsed": false,
    "ExecuteTime": {
     "start_time": "2023-04-14T15:02:34.459102Z",
     "end_time": "2023-04-14T15:02:34.495501Z"
    }
   }
  },
  {
   "cell_type": "code",
   "execution_count": 75,
   "outputs": [
    {
     "name": "stdout",
     "output_type": "stream",
     "text": [
      "Мобильных: 7\n",
      "Рабочих: 6\n",
      "Олейников Александр\n"
     ]
    }
   ],
   "source": [
    "data = db.from_sequence(data)\n",
    "mobile_phones = data.map(read_phones).flatten().filter(lambda x: '+' in x).count()\n",
    "print(f\"Мобильных: {mobile_phones.compute()}\")\n",
    "work_phones = data.map(read_phones).flatten().filter(lambda x: '+' not in x).count()\n",
    "print(f\"Рабочих: {work_phones.compute()}\")\n",
    "print(\"Олейников Александр\")"
   ],
   "metadata": {
    "collapsed": false,
    "ExecuteTime": {
     "start_time": "2023-04-14T15:02:34.857829Z",
     "end_time": "2023-04-14T15:02:35.803116Z"
    }
   }
  },
  {
   "cell_type": "markdown",
   "metadata": {},
   "source": [
    "## Лабораторная работа 12"
   ]
  },
  {
   "cell_type": "code",
   "execution_count": 1,
   "metadata": {
    "ExecuteTime": {
     "start_time": "2023-04-14T16:56:16.425526Z",
     "end_time": "2023-04-14T16:56:17.300894Z"
    }
   },
   "outputs": [],
   "source": [
    "import dask.bag as db\n",
    "import json\n",
    "import re\n",
    "import pandas as pd"
   ]
  },
  {
   "cell_type": "markdown",
   "metadata": {},
   "source": [
    "1. В файлах архиве `reviews_full.zip` находятся файлы, содержащие информацию об отзывах к рецептам в формате JSON Lines. Отзывы разделены на файлы в зависимости от оценки (например, в файле `reviews_1.json` находятся отзывы с оценкой 1). Считайте файлы из этого архива в виде `dask.bag`. Преобразуйте текстовое содержимое файлов в объекты python (с помощью модуля `json`). Выведите на экран первые 5 элементов полученного `bag`."
   ]
  },
  {
   "cell_type": "code",
   "execution_count": 2,
   "outputs": [
    {
     "name": "stdout",
     "output_type": "stream",
     "text": [
      "Олейников Алесандр\n"
     ]
    },
    {
     "data": {
      "text/plain": "({'user_id': 452355,\n  'recipe_id': 292657,\n  'date': '2016-05-08',\n  'review': 'WOW!!! This is the best. I have never been able to make homemade enchiladas that taste like the Mexican restaurants. I made this last night for my family and they said they will never have enchiladas at the Mexican Restaurants again. Thanks for sharing.'},\n {'user_id': 329304,\n  'recipe_id': 433404,\n  'date': '2006-06-14',\n  'review': 'This was good but the dressing needed something and I found it to be a little too sweet, next time I will experiment with some garlic and herbs and reduce the sugar slightly, thanks for sharing kcdlong!...Kitten'},\n {'user_id': 227932,\n  'recipe_id': 2008187,\n  'date': '1985-11-19',\n  'review': 'Very good,it was a hit for my family. I used 6 cloves of garlic and had 1 lb beef and  Johnsonville sausage,1/2 lb hot and  1/2 lb honey garlic( which I wanted to use). That was a perfect combo for us. The sausage gave it nice flavor No guestion , I will be making this often.'},\n {'user_id': 171468,\n  'recipe_id': 270716,\n  'date': '2019-05-21',\n  'review': 'Made for ZWT-8 Family Picks after I saw these mentioned in the Family Picks thread. So I got up this morning, made my morning coffee while the oven was heating & then made these quick-fix sweet treats B4 I was ready for my 2nd cup of coffee. I used 8\" tortillas (all I had on-hand) & cut them into 8 wedges. Then I used 2 of my Pamperd Chef gadgets .. my sml basting brush to spread the honey on the warm tortillas & my flour/sugar shaker to sprinkle the powd sugar/cinnamon mixture atop the honeyed tortillas. It might have taken a total of 2 min from oven to tasting! Yum! Using the same \"sweet mix\" these would also be good w/butter, cream cheese or even lime juice. Can\\'t wait to try them w/lime juice! Thx for sharing this tasty little treat w/us.'},\n {'user_id': 91392,\n  'recipe_id': 1159916,\n  'date': '1972-09-18',\n  'review': \"Very nice slaw. I especially like that it doesn't have the mayo dressing. I used a prepackaged Cole slaw mix, so i didn't include the carrots nor the nuts. I also doubled the sauce. :)\"})"
     },
     "execution_count": 2,
     "metadata": {},
     "output_type": "execute_result"
    }
   ],
   "source": [
    "data = db.read_text(r\"reviews_full/reviews_*.json\").map(json.loads)\n",
    "print(\"Олейников Алесандр\")\n",
    "data.take(5)"
   ],
   "metadata": {
    "collapsed": false
   }
  },
  {
   "cell_type": "markdown",
   "source": [
    "2. Модифицируйте функцию разбора JSON таким образом, чтобы в каждый словарь c информацией об отзыве добавить ключ `rating`. Значение получите на основе названия файла (см. аргумент `include_path`), использовав для этого регулярное выражение."
   ],
   "metadata": {
    "collapsed": false
   }
  },
  {
   "cell_type": "code",
   "execution_count": 32,
   "outputs": [
    {
     "data": {
      "text/plain": "(('{\"user_id\": 452355, \"recipe_id\": 292657, \"date\": \"2016-05-08\", \"review\": \"WOW!!! This is the best. I have never been able to make homemade enchiladas that taste like the Mexican restaurants. I made this last night for my family and they said they will never have enchiladas at the Mexican Restaurants again. Thanks for sharing.\"}\\n',\n  'U:/Python/PyCharm/pythonProject/lr12/reviews_full/reviews_0.json'),\n ('{\"user_id\": 329304, \"recipe_id\": 433404, \"date\": \"2006-06-14\", \"review\": \"This was good but the dressing needed something and I found it to be a little too sweet, next time I will experiment with some garlic and herbs and reduce the sugar slightly, thanks for sharing kcdlong!...Kitten\"}\\n',\n  'U:/Python/PyCharm/pythonProject/lr12/reviews_full/reviews_0.json'),\n ('{\"user_id\": 227932, \"recipe_id\": 2008187, \"date\": \"1985-11-19\", \"review\": \"Very good,it was a hit for my family. I used 6 cloves of garlic and had 1 lb beef and  Johnsonville sausage,1/2 lb hot and  1/2 lb honey garlic( which I wanted to use). That was a perfect combo for us. The sausage gave it nice flavor No guestion , I will be making this often.\"}\\n',\n  'U:/Python/PyCharm/pythonProject/lr12/reviews_full/reviews_0.json'),\n ('{\"user_id\": 171468, \"recipe_id\": 270716, \"date\": \"2019-05-21\", \"review\": \"Made for ZWT-8 Family Picks after I saw these mentioned in the Family Picks thread. So I got up this morning, made my morning coffee while the oven was heating & then made these quick-fix sweet treats B4 I was ready for my 2nd cup of coffee. I used 8\\\\\" tortillas (all I had on-hand) & cut them into 8 wedges. Then I used 2 of my Pamperd Chef gadgets .. my sml basting brush to spread the honey on the warm tortillas & my flour/sugar shaker to sprinkle the powd sugar/cinnamon mixture atop the honeyed tortillas. It might have taken a total of 2 min from oven to tasting! Yum! Using the same \\\\\"sweet mix\\\\\" these would also be good w/butter, cream cheese or even lime juice. Can\\'t wait to try them w/lime juice! Thx for sharing this tasty little treat w/us.\"}\\n',\n  'U:/Python/PyCharm/pythonProject/lr12/reviews_full/reviews_0.json'),\n ('{\"user_id\": 91392, \"recipe_id\": 1159916, \"date\": \"1972-09-18\", \"review\": \"Very nice slaw. I especially like that it doesn\\'t have the mayo dressing. I used a prepackaged Cole slaw mix, so i didn\\'t include the carrots nor the nuts. I also doubled the sauce. :)\"}\\n',\n  'U:/Python/PyCharm/pythonProject/lr12/reviews_full/reviews_0.json'))"
     },
     "execution_count": 32,
     "metadata": {},
     "output_type": "execute_result"
    }
   ],
   "source": [
    "data2 = db.read_text(r\"reviews_full/reviews_*.json\", include_path=True)\n",
    "data2.take(5)"
   ],
   "metadata": {
    "collapsed": false,
    "ExecuteTime": {
     "start_time": "2023-04-14T17:29:23.914046Z",
     "end_time": "2023-04-14T17:29:24.617930Z"
    }
   }
  },
  {
   "cell_type": "code",
   "execution_count": 4,
   "outputs": [],
   "source": [
    "def find_and_add(note):\n",
    "    data = json.loads(note[0])\n",
    "    data[\"rating\"] = int(re.findall(\"\\d+.json\", note[1])[0].split('.')[0])\n",
    "    return data"
   ],
   "metadata": {
    "collapsed": false,
    "ExecuteTime": {
     "start_time": "2023-04-14T16:56:28.980740Z",
     "end_time": "2023-04-14T16:56:29.074513Z"
    }
   }
  },
  {
   "cell_type": "code",
   "execution_count": 5,
   "outputs": [
    {
     "name": "stdout",
     "output_type": "stream",
     "text": [
      "Олейников Александр\n"
     ]
    },
    {
     "data": {
      "text/plain": "({'user_id': 452355,\n  'recipe_id': 292657,\n  'date': '2016-05-08',\n  'review': 'WOW!!! This is the best. I have never been able to make homemade enchiladas that taste like the Mexican restaurants. I made this last night for my family and they said they will never have enchiladas at the Mexican Restaurants again. Thanks for sharing.',\n  'rating': 0},\n {'user_id': 329304,\n  'recipe_id': 433404,\n  'date': '2006-06-14',\n  'review': 'This was good but the dressing needed something and I found it to be a little too sweet, next time I will experiment with some garlic and herbs and reduce the sugar slightly, thanks for sharing kcdlong!...Kitten',\n  'rating': 0},\n {'user_id': 227932,\n  'recipe_id': 2008187,\n  'date': '1985-11-19',\n  'review': 'Very good,it was a hit for my family. I used 6 cloves of garlic and had 1 lb beef and  Johnsonville sausage,1/2 lb hot and  1/2 lb honey garlic( which I wanted to use). That was a perfect combo for us. The sausage gave it nice flavor No guestion , I will be making this often.',\n  'rating': 0},\n {'user_id': 171468,\n  'recipe_id': 270716,\n  'date': '2019-05-21',\n  'review': 'Made for ZWT-8 Family Picks after I saw these mentioned in the Family Picks thread. So I got up this morning, made my morning coffee while the oven was heating & then made these quick-fix sweet treats B4 I was ready for my 2nd cup of coffee. I used 8\" tortillas (all I had on-hand) & cut them into 8 wedges. Then I used 2 of my Pamperd Chef gadgets .. my sml basting brush to spread the honey on the warm tortillas & my flour/sugar shaker to sprinkle the powd sugar/cinnamon mixture atop the honeyed tortillas. It might have taken a total of 2 min from oven to tasting! Yum! Using the same \"sweet mix\" these would also be good w/butter, cream cheese or even lime juice. Can\\'t wait to try them w/lime juice! Thx for sharing this tasty little treat w/us.',\n  'rating': 0},\n {'user_id': 91392,\n  'recipe_id': 1159916,\n  'date': '1972-09-18',\n  'review': \"Very nice slaw. I especially like that it doesn't have the mayo dressing. I used a prepackaged Cole slaw mix, so i didn't include the carrots nor the nuts. I also doubled the sauce. :)\",\n  'rating': 0})"
     },
     "execution_count": 5,
     "metadata": {},
     "output_type": "execute_result"
    }
   ],
   "source": [
    "print(\"Олейников Александр\")\n",
    "data_with_rating = data2.map(lambda x : find_and_add(x))\n",
    "data_with_rating.take(5)"
   ],
   "metadata": {
    "collapsed": false,
    "ExecuteTime": {
     "start_time": "2023-04-14T16:57:00.605295Z",
     "end_time": "2023-04-14T16:57:01.320201Z"
    }
   }
  },
  {
   "cell_type": "markdown",
   "metadata": {},
   "source": [
    "3. Посчитайте количество отзывов в исходном датасете."
   ]
  },
  {
   "cell_type": "code",
   "execution_count": 6,
   "outputs": [
    {
     "name": "stdout",
     "output_type": "stream",
     "text": [
      "Олейников Александр\n"
     ]
    },
    {
     "data": {
      "text/plain": "9057540"
     },
     "execution_count": 6,
     "metadata": {},
     "output_type": "execute_result"
    }
   ],
   "source": [
    "print(\"Олейников Александр\")\n",
    "data_with_rating.count().compute()"
   ],
   "metadata": {
    "collapsed": false,
    "ExecuteTime": {
     "start_time": "2023-04-14T16:51:41.557832Z",
     "end_time": "2023-04-14T16:52:49.559999Z"
    }
   }
  },
  {
   "cell_type": "markdown",
   "metadata": {},
   "source": [
    "4. Отфильтруйте `bag`, сохранив только отзывы, оставленные в 2014 и 2015 годах."
   ]
  },
  {
   "cell_type": "code",
   "execution_count": 9,
   "outputs": [
    {
     "data": {
      "text/plain": "({'user_id': 229850,\n  'recipe_id': 1300038,\n  'date': '2014-10-03',\n  'review': 'Took this to a New Year&#039;s Eve Party. Everyone loved it! It&#039;s absolutely perfect, the flavor, the crunch, just delicious!',\n  'rating': 0},\n {'user_id': 2706705,\n  'recipe_id': 133747,\n  'date': '2015-05-08',\n  'review': 'Simple and easy way to enjoy a slice of pizza any time!  Well-toasted bread is the key - really toast it!  I put a bit of pizza sauce underneath my cheese for a more pizza-like flavor.  I used sourdough bread & medium cheddar cheese.  Fast & fun!  Great idea!  Made for 1-2-3 Hits Tag Game.',\n  'rating': 0},\n {'user_id': 945545,\n  'recipe_id': 898468,\n  'date': '2015-06-30',\n  'review': 'Delish!  I wanted to make this spicy so I used hot enchilada sauce and jalapeno refried beans.  I forgot to buy the onions so I doctored up the beans with onion powder and granulated garlic.  Added the olives under the cheese and baked, uncovered, for the 25 minutes.  Served with pico de gallo, sour cream and avocado chunks.  Fantastic!  Thanks for sharing, lazyme!',\n  'rating': 0},\n {'user_id': 262915,\n  'recipe_id': 1657686,\n  'date': '2015-11-29',\n  'review': 'This is seriously delicious.  I mixed it up the night before and baked it in the morning before work.  Made the sauce the night before and refrigerated overnight and heated in microwave.  Such an unusual combination but it kind of reminded me of the pancake on a stick that my kids used to get at the convenience store (sausage wrapped in a pancake, kind of like a corn dog.  Making it again this week and will try to get a pic this time!',\n  'rating': 0},\n {'user_id': 2000408662,\n  'recipe_id': 128848,\n  'date': '2015-08-17',\n  'review': 'Many thanks. Found the recipe truly marvellous! I can now make full use of the lemons growing in my garden.The marmalade was delicious and very easy to make. Since it was the first time, I didn&#039;t want to use a large quantity and so I halved the measures after converting them into grams. Please could we have measurements of ingredients in  recipes in the metric system, i.e. grams and litres,and not in pounds?  Now I am going to search for a recipe to make lemon squash',\n  'rating': 0})"
     },
     "execution_count": 9,
     "metadata": {},
     "output_type": "execute_result"
    }
   ],
   "source": [
    "data_filter = data_with_rating.filter(lambda x: x['date'].split('-')[0] in ('2014', '2015'))\n",
    "data_filter.take(5)"
   ],
   "metadata": {
    "collapsed": false,
    "ExecuteTime": {
     "start_time": "2023-04-14T16:59:10.820811Z",
     "end_time": "2023-04-14T16:59:11.573976Z"
    }
   }
  },
  {
   "cell_type": "code",
   "execution_count": 10,
   "outputs": [
    {
     "name": "stdout",
     "output_type": "stream",
     "text": [
      "Олейников Александр\n"
     ]
    },
    {
     "data": {
      "text/plain": "735274"
     },
     "execution_count": 10,
     "metadata": {},
     "output_type": "execute_result"
    }
   ],
   "source": [
    "print(\"Олейников Александр\")\n",
    "data_filter.count().compute()"
   ],
   "metadata": {
    "collapsed": false,
    "ExecuteTime": {
     "start_time": "2023-04-14T16:59:19.778781Z",
     "end_time": "2023-04-14T17:00:27.445641Z"
    }
   }
  },
  {
   "cell_type": "markdown",
   "metadata": {},
   "source": [
    "5. Выполните препроцессинг отзывов:\n",
    "    * привести строки к нижнему регистру\n",
    "    * обрезать пробельные символы в начале и конце строки\n",
    "    * удалите все символы, кроме английских букв и пробелов\n",
    "    \n",
    "Примените препроцессинг ко всем записям из `bag`, полученного в задании 4."
   ]
  },
  {
   "cell_type": "code",
   "execution_count": 11,
   "outputs": [
    {
     "name": "stdout",
     "output_type": "stream",
     "text": [
      "Олейников Александр\n"
     ]
    },
    {
     "data": {
      "text/plain": "({'user_id': 229850,\n  'recipe_id': 1300038,\n  'date': '2014-10-03',\n  'review': 'took this to a new years eve party everyone loved it its absolutely perfect the flavor the crunch just delicious',\n  'rating': 0},\n {'user_id': 2706705,\n  'recipe_id': 133747,\n  'date': '2015-05-08',\n  'review': 'simple and easy way to enjoy a slice of pizza any time  welltoasted bread is the key  really toast it  i put a bit of pizza sauce underneath my cheese for a more pizzalike flavor  i used sourdough bread  medium cheddar cheese  fast  fun  great idea  made for  hits tag game',\n  'rating': 0},\n {'user_id': 945545,\n  'recipe_id': 898468,\n  'date': '2015-06-30',\n  'review': 'delish  i wanted to make this spicy so i used hot enchilada sauce and jalapeno refried beans  i forgot to buy the onions so i doctored up the beans with onion powder and granulated garlic  added the olives under the cheese and baked uncovered for the  minutes  served with pico de gallo sour cream and avocado chunks  fantastic  thanks for sharing lazyme',\n  'rating': 0},\n {'user_id': 262915,\n  'recipe_id': 1657686,\n  'date': '2015-11-29',\n  'review': 'this is seriously delicious  i mixed it up the night before and baked it in the morning before work  made the sauce the night before and refrigerated overnight and heated in microwave  such an unusual combination but it kind of reminded me of the pancake on a stick that my kids used to get at the convenience store sausage wrapped in a pancake kind of like a corn dog  making it again this week and will try to get a pic this time',\n  'rating': 0},\n {'user_id': 2000408662,\n  'recipe_id': 128848,\n  'date': '2015-08-17',\n  'review': 'many thanks found the recipe truly marvellous i can now make full use of the lemons growing in my gardenthe marmalade was delicious and very easy to make since it was the first time i didnt want to use a large quantity and so i halved the measures after converting them into grams please could we have measurements of ingredients in  recipes in the metric system ie grams and litresand not in pounds  now i am going to search for a recipe to make lemon squash',\n  'rating': 0})"
     },
     "execution_count": 11,
     "metadata": {},
     "output_type": "execute_result"
    }
   ],
   "source": [
    "def preprocessing(node):\n",
    "    node[\"review\"] = re.sub(r'[^A-Za-z ]+', '', node[\"review\"].lower().strip())\n",
    "    return node\n",
    "\n",
    "print(\"Олейников Александр\")\n",
    "data_preprocessing = data_filter.map(lambda x: preprocessing(x))\n",
    "data_preprocessing.take(5)"
   ],
   "metadata": {
    "collapsed": false,
    "ExecuteTime": {
     "start_time": "2023-04-14T17:02:17.784155Z",
     "end_time": "2023-04-14T17:02:18.693882Z"
    }
   }
  },
  {
   "cell_type": "markdown",
   "metadata": {},
   "source": [
    "6. Посчитайте количество отзывов в датасете, полученном в результате решения задачи 5. В случае ошибок прокомментируйте результат и исправьте функцию препроцессинга."
   ]
  },
  {
   "cell_type": "code",
   "execution_count": 28,
   "outputs": [
    {
     "name": "stdout",
     "output_type": "stream",
     "text": [
      "Олейников Александр\n"
     ]
    },
    {
     "data": {
      "text/plain": "735274"
     },
     "execution_count": 28,
     "metadata": {},
     "output_type": "execute_result"
    }
   ],
   "source": [
    "print(\"Олейников Александр\")\n",
    "data_preprocessing.count().compute()"
   ],
   "metadata": {
    "collapsed": false,
    "ExecuteTime": {
     "start_time": "2023-04-14T17:14:41.901955Z",
     "end_time": "2023-04-14T17:15:55.854018Z"
    }
   }
  },
  {
   "cell_type": "markdown",
   "metadata": {},
   "source": [
    "7. Посчитайте, как часто в наборе, полученном в задании 5, встречается та или иная оценка"
   ]
  },
  {
   "cell_type": "code",
   "execution_count": 30,
   "outputs": [
    {
     "data": {
      "text/plain": "{0: 42472, 1: 9246, 2: 9380, 3: 26532, 4: 119413, 5: 528231}"
     },
     "execution_count": 30,
     "metadata": {},
     "output_type": "execute_result"
    }
   ],
   "source": [
    "# pluck - выбор rating ключа из всех словарей\n",
    "dict(data_preprocessing.pluck(\"rating\").frequencies())"
   ],
   "metadata": {
    "collapsed": false,
    "ExecuteTime": {
     "start_time": "2023-04-14T17:17:14.976143Z",
     "end_time": "2023-04-14T17:18:31.840551Z"
    }
   }
  },
  {
   "cell_type": "markdown",
   "source": [
    "Олейников Александр"
   ],
   "metadata": {
    "collapsed": false
   }
  },
  {
   "cell_type": "markdown",
   "metadata": {},
   "source": [
    "8. Найдите среднее значение `rating` в выборке"
   ]
  },
  {
   "cell_type": "code",
   "execution_count": 31,
   "outputs": [
    {
     "data": {
      "text/plain": "4.388036296673077"
     },
     "execution_count": 31,
     "metadata": {},
     "output_type": "execute_result"
    }
   ],
   "source": [
    "data_preprocessing.pluck('rating').mean().compute()"
   ],
   "metadata": {
    "collapsed": false,
    "ExecuteTime": {
     "start_time": "2023-04-14T17:21:05.673061Z",
     "end_time": "2023-04-14T17:22:18.810664Z"
    }
   }
  },
  {
   "cell_type": "markdown",
   "source": [
    "Олейников Александр"
   ],
   "metadata": {
    "collapsed": false
   }
  },
  {
   "cell_type": "markdown",
   "metadata": {},
   "source": [
    "9. Используя метод `foldby`, подсчитать максимальную длину отзывов в зависимости от оценки `rating` в наборе, полученном в задании 5."
   ]
  },
  {
   "cell_type": "code",
   "execution_count": 41,
   "metadata": {
    "ExecuteTime": {
     "start_time": "2023-04-14T17:56:47.908150Z",
     "end_time": "2023-04-14T17:58:05.042306Z"
    }
   },
   "outputs": [
    {
     "data": {
      "text/plain": "[{0: 6548}, {1: 2868}, {2: 2834}, {3: 3174}, {4: 6548}, {5: 5343}]"
     },
     "execution_count": 41,
     "metadata": {},
     "output_type": "execute_result"
    }
   ],
   "source": [
    "key_func = lambda x: x['rating']\n",
    "reduce_func = lambda last, current: max(last, current, key=lambda item:len(item['review']))\n",
    "\n",
    "data_preprocessing.foldby(key_func, reduce_func).map(lambda x: {x[0]: len(x[1]['review'])}).compute()"
   ]
  },
  {
   "cell_type": "raw",
   "source": [
    "Олейников Александр"
   ],
   "metadata": {
    "collapsed": false
   }
  }
 ],
 "metadata": {
  "kernelspec": {
   "display_name": "Python 3",
   "language": "python",
   "name": "python3"
  },
  "language_info": {
   "codemirror_mode": {
    "name": "ipython",
    "version": 3
   },
   "file_extension": ".py",
   "mimetype": "text/x-python",
   "name": "python",
   "nbconvert_exporter": "python",
   "pygments_lexer": "ipython3",
   "version": "3.8.3"
  }
 },
 "nbformat": 4,
 "nbformat_minor": 4
}
