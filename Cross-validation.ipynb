{
 "cells": [
  {
   "cell_type": "code",
   "execution_count": 1,
   "id": "59cce922",
   "metadata": {
    "ExecuteTime": {
     "end_time": "2023-05-16T08:06:28.008825500Z",
     "start_time": "2023-05-16T08:06:26.974974700Z"
    }
   },
   "outputs": [],
   "source": [
    "# загрузим данные\n",
    "import pandas as pd\n",
    "from sklearn.datasets import load_iris\n",
    "\n",
    "iris = load_iris()\n",
    "X=iris.data\n",
    "y=iris.target"
   ]
  },
  {
   "cell_type": "code",
   "execution_count": 2,
   "id": "1bc819b6",
   "metadata": {
    "ExecuteTime": {
     "end_time": "2023-05-16T08:06:28.083486400Z",
     "start_time": "2023-05-16T08:06:28.016825500Z"
    }
   },
   "outputs": [
    {
     "data": {
      "text/plain": "   sepal length (cm)  sepal width (cm)  petal length (cm)  petal width (cm)  \\\n0                5.1               3.5                1.4               0.2   \n1                4.9               3.0                1.4               0.2   \n2                4.7               3.2                1.3               0.2   \n3                4.6               3.1                1.5               0.2   \n4                5.0               3.6                1.4               0.2   \n\n         class  \n0  Iris-setosa  \n1  Iris-setosa  \n2  Iris-setosa  \n3  Iris-setosa  \n4  Iris-setosa  ",
      "text/html": "<div>\n<style scoped>\n    .dataframe tbody tr th:only-of-type {\n        vertical-align: middle;\n    }\n\n    .dataframe tbody tr th {\n        vertical-align: top;\n    }\n\n    .dataframe thead th {\n        text-align: right;\n    }\n</style>\n<table border=\"1\" class=\"dataframe\">\n  <thead>\n    <tr style=\"text-align: right;\">\n      <th></th>\n      <th>sepal length (cm)</th>\n      <th>sepal width (cm)</th>\n      <th>petal length (cm)</th>\n      <th>petal width (cm)</th>\n      <th>class</th>\n    </tr>\n  </thead>\n  <tbody>\n    <tr>\n      <th>0</th>\n      <td>5.1</td>\n      <td>3.5</td>\n      <td>1.4</td>\n      <td>0.2</td>\n      <td>Iris-setosa</td>\n    </tr>\n    <tr>\n      <th>1</th>\n      <td>4.9</td>\n      <td>3.0</td>\n      <td>1.4</td>\n      <td>0.2</td>\n      <td>Iris-setosa</td>\n    </tr>\n    <tr>\n      <th>2</th>\n      <td>4.7</td>\n      <td>3.2</td>\n      <td>1.3</td>\n      <td>0.2</td>\n      <td>Iris-setosa</td>\n    </tr>\n    <tr>\n      <th>3</th>\n      <td>4.6</td>\n      <td>3.1</td>\n      <td>1.5</td>\n      <td>0.2</td>\n      <td>Iris-setosa</td>\n    </tr>\n    <tr>\n      <th>4</th>\n      <td>5.0</td>\n      <td>3.6</td>\n      <td>1.4</td>\n      <td>0.2</td>\n      <td>Iris-setosa</td>\n    </tr>\n  </tbody>\n</table>\n</div>"
     },
     "execution_count": 2,
     "metadata": {},
     "output_type": "execute_result"
    }
   ],
   "source": [
    "iris_data = pd.DataFrame(iris['data'], columns=iris['feature_names'])\n",
    "name_map = {0: 'Iris-setosa', 1: 'Iris-versicolor', 2:'Iris-virginica'}\n",
    "iris_data['class'] = [name_map[k] for k in iris['target']]\n",
    "iris_data.head()"
   ]
  },
  {
   "cell_type": "code",
   "execution_count": 8,
   "id": "8a8f2c1e",
   "metadata": {
    "ExecuteTime": {
     "end_time": "2023-05-16T08:07:55.510151300Z",
     "start_time": "2023-05-16T08:07:55.447650900Z"
    }
   },
   "outputs": [],
   "source": [
    "from sklearn.model_selection import KFold,StratifiedKFold,LeaveOneOut, cross_val_score"
   ]
  },
  {
   "cell_type": "code",
   "execution_count": 9,
   "id": "25a35d3e",
   "metadata": {
    "ExecuteTime": {
     "end_time": "2023-05-16T08:07:55.886751400Z",
     "start_time": "2023-05-16T08:07:55.838865800Z"
    }
   },
   "outputs": [
    {
     "data": {
      "text/plain": "KFold(n_splits=3, random_state=15, shuffle=True)"
     },
     "execution_count": 9,
     "metadata": {},
     "output_type": "execute_result"
    }
   ],
   "source": [
    "# Создадим k-блочное разбиение\n",
    "kf = KFold(n_splits = 3,shuffle=True, random_state=15)\n",
    "kf"
   ]
  },
  {
   "cell_type": "code",
   "execution_count": 10,
   "id": "2770dd2b",
   "metadata": {
    "scrolled": true,
    "ExecuteTime": {
     "end_time": "2023-05-16T08:07:56.302213900Z",
     "start_time": "2023-05-16T08:07:56.208445100Z"
    }
   },
   "outputs": [
    {
     "name": "stdout",
     "output_type": "stream",
     "text": [
      "Fold 1: Длинна train: 100, Длинна test: 50\n",
      "Train: index=[  1   2   3   4   7  10  14  15  16  17  18  19  22  23  24  26  28  29\n",
      "  32  33  34  35  37  38  39  40  41  42  43  44  45  46  49  50  51  52\n",
      "  53  54  56  60  62  63  64  65  66  68  69  70  73  75  76  77  79  80\n",
      "  81  82  83  85  87  88  91  92  93  94  96  99 101 102 104 105 106 107\n",
      " 108 110 111 113 114 117 118 119 120 121 123 125 128 131 132 133 134 135\n",
      " 136 137 139 140 141 142 144 145 146 147]\n",
      " Test:  index=[  0   5   6   8   9  11  12  13  20  21  25  27  30  31  36  47  48  55\n",
      "  57  58  59  61  67  71  72  74  78  84  86  89  90  95  97  98 100 103\n",
      " 109 112 115 116 122 124 126 127 129 130 138 143 148 149]\n",
      "Fold 2: Длинна train: 100, Длинна test: 50\n",
      "Train: index=[  0   1   4   5   6   7   8   9  10  11  12  13  15  17  19  20  21  22\n",
      "  23  24  25  26  27  28  30  31  34  36  37  39  40  41  42  44  47  48\n",
      "  50  53  55  56  57  58  59  60  61  62  63  65  66  67  70  71  72  74\n",
      "  75  78  79  84  85  86  89  90  95  96  97  98  99 100 101 102 103 104\n",
      " 105 107 109 112 114 115 116 118 119 121 122 124 125 126 127 128 129 130\n",
      " 131 133 134 138 140 143 145 146 148 149]\n",
      " Test:  index=[  2   3  14  16  18  29  32  33  35  38  43  45  46  49  51  52  54  64\n",
      "  68  69  73  76  77  80  81  82  83  87  88  91  92  93  94 106 108 110\n",
      " 111 113 117 120 123 132 135 136 137 139 141 142 144 147]\n",
      "Fold 3: Длинна train: 100, Длинна test: 50\n",
      "Train: index=[  0   2   3   5   6   8   9  11  12  13  14  16  18  20  21  25  27  29\n",
      "  30  31  32  33  35  36  38  43  45  46  47  48  49  51  52  54  55  57\n",
      "  58  59  61  64  67  68  69  71  72  73  74  76  77  78  80  81  82  83\n",
      "  84  86  87  88  89  90  91  92  93  94  95  97  98 100 103 106 108 109\n",
      " 110 111 112 113 115 116 117 120 122 123 124 126 127 129 130 132 135 136\n",
      " 137 138 139 141 142 143 144 147 148 149]\n",
      " Test:  index=[  1   4   7  10  15  17  19  22  23  24  26  28  34  37  39  40  41  42\n",
      "  44  50  53  56  60  62  63  65  66  70  75  79  85  96  99 101 102 104\n",
      " 105 107 114 118 119 121 125 128 131 133 134 140 145 146]\n"
     ]
    }
   ],
   "source": [
    "# Разбиение на блоки\n",
    "for i, (train_index, test_index) in enumerate(kf.split(y)):\n",
    "    print(\"Fold {}: Длинна train: {}, Длинна test: {}\".format(i+1, len(train_index), len(test_index)))\n",
    "    print('Train: index={}\\n Test:  index={}'.format(train_index, test_index))\n",
    "\n",
    "    X_train, X_test = X[train_index], X[test_index]\n",
    "    y_train, y_test = y[train_index], y[test_index]"
   ]
  },
  {
   "cell_type": "code",
   "execution_count": 11,
   "id": "12de6d36",
   "metadata": {
    "ExecuteTime": {
     "end_time": "2023-05-16T08:07:56.942907100Z",
     "start_time": "2023-05-16T08:07:56.880404300Z"
    }
   },
   "outputs": [],
   "source": [
    "# Кросс-валидация\n",
    "from sklearn.linear_model import LogisticRegression\n",
    "from sklearn.metrics import accuracy_score, f1_score\n",
    "\n",
    "metrics_accuracy = []\n",
    "metrics_f1 = []\n",
    "model = LogisticRegression(solver='liblinear')\n",
    "for i, (train_index, test_index) in enumerate(kf.split(y)):\n",
    "    X_train, X_test = X[train_index], X[test_index]\n",
    "    y_train, y_test = y[train_index], y[test_index]\n",
    "    model.fit(X_train, y_train)\n",
    "    y_pred = model.predict(X_test)\n",
    "    metrics_accuracy.append(accuracy_score(y_test, y_pred))\n",
    "    metrics_f1.append(round(f1_score(y_test, y_pred, average='macro'), 2))"
   ]
  },
  {
   "cell_type": "code",
   "execution_count": 12,
   "id": "1628b20a",
   "metadata": {
    "ExecuteTime": {
     "end_time": "2023-05-16T08:07:57.548040700Z",
     "start_time": "2023-05-16T08:07:57.516775300Z"
    }
   },
   "outputs": [
    {
     "name": "stdout",
     "output_type": "stream",
     "text": [
      "Значения метрики accuracy: [0.96, 0.96, 0.9] \n",
      "Значения метрики f1: [0.96, 0.96, 0.89]\n"
     ]
    }
   ],
   "source": [
    "print('Значения метрики accuracy: {} \\nЗначения метрики f1: {}'.format(metrics_accuracy, metrics_f1))"
   ]
  },
  {
   "cell_type": "code",
   "execution_count": 13,
   "id": "16e1bed2",
   "metadata": {
    "ExecuteTime": {
     "end_time": "2023-05-16T08:07:57.973943900Z",
     "start_time": "2023-05-16T08:07:57.927051600Z"
    }
   },
   "outputs": [
    {
     "name": "stdout",
     "output_type": "stream",
     "text": [
      "Среднее по кросс-валидации:  0.94\n"
     ]
    }
   ],
   "source": [
    "import numpy as np\n",
    "print(\"Среднее по кросс-валидации: \", round(np.array(metrics_f1).mean(),2))"
   ]
  },
  {
   "cell_type": "code",
   "execution_count": 14,
   "id": "77c2d255",
   "metadata": {
    "ExecuteTime": {
     "end_time": "2023-05-16T08:08:00.817588900Z",
     "start_time": "2023-05-16T08:07:58.345283600Z"
    }
   },
   "outputs": [
    {
     "name": "stdout",
     "output_type": "stream",
     "text": [
      "Кросс-валидация:  [0.96 0.96 0.9 ]\n",
      "Среднее по кросс-валидации:  0.94\n",
      "Дисперсия по кросс-валидации:  0.028284271247461874\n"
     ]
    }
   ],
   "source": [
    "# Выполним кросс-валидацию с помощью функции\n",
    "cv_results = cross_val_score(model,                  # модель\n",
    "                             X,                      # матрица признаков\n",
    "                             y,                      # вектор цели\n",
    "                             cv = kf,                # тип разбиения (можно указать просто число фолдов cv = 3)\n",
    "                             scoring = 'accuracy',   # метрика\n",
    "                             n_jobs=-1)              # используются все ядра CPU\n",
    "\n",
    "print(\"Кросс-валидация: \", cv_results)\n",
    "print(\"Среднее по кросс-валидации: \", cv_results.mean())\n",
    "print(\"Дисперсия по кросс-валидации: \", cv_results.std())"
   ]
  },
  {
   "cell_type": "code",
   "execution_count": 15,
   "id": "9a7fda3a",
   "metadata": {
    "ExecuteTime": {
     "end_time": "2023-05-16T08:08:00.866067300Z",
     "start_time": "2023-05-16T08:08:00.817588900Z"
    }
   },
   "outputs": [
    {
     "data": {
      "text/plain": "3"
     },
     "execution_count": 15,
     "metadata": {},
     "output_type": "execute_result"
    }
   ],
   "source": [
    "# Создаём стратифицированное (каждый фолд содержит примерно одинаковое соотношение классов) k-блочное разбиение\n",
    "skf = StratifiedKFold(n_splits=3,shuffle=True, random_state=15)\n",
    "skf.get_n_splits(X, y)"
   ]
  },
  {
   "cell_type": "code",
   "execution_count": 16,
   "id": "c259f897",
   "metadata": {
    "scrolled": true,
    "ExecuteTime": {
     "end_time": "2023-05-16T08:08:00.866067300Z",
     "start_time": "2023-05-16T08:08:00.850443Z"
    }
   },
   "outputs": [
    {
     "name": "stdout",
     "output_type": "stream",
     "text": [
      "Fold 1:\n",
      "Train: index=[  0   1   2   3   4   5   7   8   9  12  14  15  16  17  18  19  21  23\n",
      "  24  25  26  28  29  31  32  36  37  38  39  40  41  44  45  51  52  53\n",
      "  54  55  60  61  62  63  65  66  68  70  72  75  77  80  81  82  83  84\n",
      "  85  86  87  89  90  91  93  94  95  96  97  98 101 102 103 104 105 107\n",
      " 110 111 112 113 114 116 118 121 122 123 124 126 127 128 129 132 133 134\n",
      " 139 140 141 142 143 144 145 146 147 149]\n",
      " Test:  index=[  6  10  11  13  20  22  27  30  33  34  35  42  43  46  47  48  49  50\n",
      "  56  57  58  59  64  67  69  71  73  74  76  78  79  88  92  99 100 106\n",
      " 108 109 115 117 119 120 125 130 131 135 136 137 138 148]\n",
      "Fold 2:\n",
      "Train: index=[  0   1   2   4   5   6   9  10  11  13  14  15  16  19  20  21  22  23\n",
      "  26  27  28  29  30  31  33  34  35  42  43  46  47  48  49  50  51  54\n",
      "  55  56  57  58  59  61  63  64  66  67  69  70  71  73  74  75  76  78\n",
      "  79  83  84  87  88  89  90  91  92  94  96  97  99 100 101 103 105 106\n",
      " 107 108 109 110 114 115 116 117 118 119 120 122 125 128 130 131 133 134\n",
      " 135 136 137 138 140 142 143 144 146 148]\n",
      " Test:  index=[  3   7   8  12  17  18  24  25  32  36  37  38  39  40  41  44  45  52\n",
      "  53  60  62  65  68  72  77  80  81  82  85  86  93  95  98 102 104 111\n",
      " 112 113 121 123 124 126 127 129 132 139 141 145 147 149]\n",
      "Fold 3:\n",
      "Train: index=[  3   6   7   8  10  11  12  13  17  18  20  22  24  25  27  30  32  33\n",
      "  34  35  36  37  38  39  40  41  42  43  44  45  46  47  48  49  50  52\n",
      "  53  56  57  58  59  60  62  64  65  67  68  69  71  72  73  74  76  77\n",
      "  78  79  80  81  82  85  86  88  92  93  95  98  99 100 102 104 106 108\n",
      " 109 111 112 113 115 117 119 120 121 123 124 125 126 127 129 130 131 132\n",
      " 135 136 137 138 139 141 145 147 148 149]\n",
      " Test:  index=[  0   1   2   4   5   9  14  15  16  19  21  23  26  28  29  31  51  54\n",
      "  55  61  63  66  70  75  83  84  87  89  90  91  94  96  97 101 103 105\n",
      " 107 110 114 116 118 122 128 133 134 140 142 143 144 146]\n"
     ]
    }
   ],
   "source": [
    "# Выведем разбиение на блоки:\n",
    "for i, (train_index, test_index) in enumerate(skf.split(X,y)):\n",
    "    print(f\"Fold {i+1}:\")\n",
    "    print('Train: index={}\\n Test:  index={}'.format(train_index, test_index))\n",
    "\n",
    "    X_train, X_test = X[train_index], X[test_index]\n",
    "    y_train, y_test = y[train_index], y[test_index]"
   ]
  },
  {
   "cell_type": "code",
   "execution_count": 17,
   "id": "8c6946ed",
   "metadata": {
    "ExecuteTime": {
     "end_time": "2023-05-16T08:08:01.549288800Z",
     "start_time": "2023-05-16T08:08:00.866067300Z"
    }
   },
   "outputs": [
    {
     "name": "stdout",
     "output_type": "stream",
     "text": [
      "Кросс-валидация:  [1.         1.         0.92046784]\n",
      "Среднее по кросс-валидации:  0.9734892787524366\n"
     ]
    }
   ],
   "source": [
    "cv_results = cross_val_score(model,                  # модель\n",
    "                             X,                      # матрица признаков\n",
    "                             y,                      # вектор цели\n",
    "                             cv = skf,               # тип разбиения\n",
    "                             scoring = 'f1_macro',   # метрика\n",
    "                             n_jobs=-1)              # используются все ядра CPU\n",
    "\n",
    "print(\"Кросс-валидация: \", cv_results)\n",
    "print(\"Среднее по кросс-валидации: \", cv_results.mean())"
   ]
  },
  {
   "cell_type": "code",
   "execution_count": 18,
   "id": "e79a846d",
   "metadata": {
    "ExecuteTime": {
     "end_time": "2023-05-16T08:08:02.950145500Z",
     "start_time": "2023-05-16T08:08:02.924620700Z"
    }
   },
   "outputs": [],
   "source": [
    "# Метод leave-one-out (LOO) является частным случаем метода k-Fold: в нём каждый фолд состоит ровно из одного семпла.\n",
    "loo = LeaveOneOut()"
   ]
  },
  {
   "cell_type": "code",
   "execution_count": 19,
   "id": "2c367345",
   "metadata": {
    "scrolled": true,
    "ExecuteTime": {
     "end_time": "2023-05-16T08:08:03.431647800Z",
     "start_time": "2023-05-16T08:08:03.353512400Z"
    }
   },
   "outputs": [
    {
     "name": "stdout",
     "output_type": "stream",
     "text": [
      "Fold 1:\n",
      "Train: index=[  1   2   3   4   5   6   7   8   9  10  11  12  13  14  15  16  17  18\n",
      "  19  20  21  22  23  24  25  26  27  28  29  30  31  32  33  34  35  36\n",
      "  37  38  39  40  41  42  43  44  45  46  47  48  49  50  51  52  53  54\n",
      "  55  56  57  58  59  60  61  62  63  64  65  66  67  68  69  70  71  72\n",
      "  73  74  75  76  77  78  79  80  81  82  83  84  85  86  87  88  89  90\n",
      "  91  92  93  94  95  96  97  98  99 100 101 102 103 104 105 106 107 108\n",
      " 109 110 111 112 113 114 115 116 117 118 119 120 121 122 123 124 125 126\n",
      " 127 128 129 130 131 132 133 134 135 136 137 138 139 140 141 142 143 144\n",
      " 145 146 147 148 149]\n",
      " Test:  index=[0]\n"
     ]
    }
   ],
   "source": [
    "for i, (train_index, test_index) in enumerate(loo.split(X)):\n",
    "    print(f\"Fold {i+1}:\")\n",
    "    print('Train: index={}\\n Test:  index={}'.format(train_index, test_index))\n",
    "\n",
    "    X_train, X_test = X[train_index], X[test_index]\n",
    "    y_train, y_test = y[train_index], y[test_index]\n",
    "    break"
   ]
  },
  {
   "cell_type": "code",
   "execution_count": 20,
   "id": "e69c962e",
   "metadata": {
    "ExecuteTime": {
     "end_time": "2023-05-16T08:08:07.891623500Z",
     "start_time": "2023-05-16T08:08:06.674865400Z"
    }
   },
   "outputs": [
    {
     "name": "stdout",
     "output_type": "stream",
     "text": [
      "Кросс-валидация:  [1. 1. 1. 1. 1. 1. 1. 1. 1. 1. 1. 1. 1. 1. 1. 1. 1. 1. 1. 1. 1. 1. 1. 1.\n",
      " 1. 1. 1. 1. 1. 1. 1. 1. 1. 1. 1. 1. 1. 1. 1. 1. 1. 1. 1. 1. 1. 1. 1. 1.\n",
      " 1. 1. 1. 1. 1. 1. 1. 1. 1. 1. 1. 1. 1. 1. 1. 1. 1. 1. 0. 1. 1. 1. 0. 1.\n",
      " 1. 1. 1. 1. 1. 1. 1. 1. 1. 1. 1. 0. 0. 0. 1. 1. 1. 1. 1. 1. 1. 1. 1. 1.\n",
      " 1. 1. 1. 1. 1. 1. 1. 1. 1. 1. 1. 1. 1. 1. 1. 1. 1. 1. 1. 1. 1. 1. 1. 1.\n",
      " 1. 1. 1. 1. 1. 1. 1. 1. 1. 0. 1. 1. 1. 0. 1. 1. 1. 1. 1. 1. 1. 1. 1. 1.\n",
      " 1. 1. 1. 1. 1. 1.]\n",
      "Среднее по кросс-валидации:  0.9533333333333334\n"
     ]
    }
   ],
   "source": [
    "cv_results = cross_val_score(model,                  # модель\n",
    "                             X,                      # матрица признаков\n",
    "                             y,                      # вектор цели\n",
    "                             cv = loo,           # тип разбиения\n",
    "                             scoring = 'f1_macro',   # метрика\n",
    "                             n_jobs=-1)              # используются все ядра CPU\n",
    "\n",
    "print(\"Кросс-валидация: \", cv_results)\n",
    "print(\"Среднее по кросс-валидации: \", cv_results.mean())"
   ]
  },
  {
   "cell_type": "code",
   "execution_count": 21,
   "id": "952a05d9",
   "metadata": {
    "ExecuteTime": {
     "end_time": "2023-05-16T08:08:12.842764900Z",
     "start_time": "2023-05-16T08:08:12.795871200Z"
    }
   },
   "outputs": [],
   "source": [
    "# Исключает p элементов из каждой тренировочной выборки\n",
    "from sklearn.model_selection import LeavePOut\n",
    "lpo = LeavePOut(p=2)"
   ]
  },
  {
   "cell_type": "code",
   "execution_count": 22,
   "outputs": [
    {
     "name": "stdout",
     "output_type": "stream",
     "text": [
      "Fold 1:\n",
      "Train: index=[  2   3   4   5   6   7   8   9  10  11  12  13  14  15  16  17  18  19\n",
      "  20  21  22  23  24  25  26  27  28  29  30  31  32  33  34  35  36  37\n",
      "  38  39  40  41  42  43  44  45  46  47  48  49  50  51  52  53  54  55\n",
      "  56  57  58  59  60  61  62  63  64  65  66  67  68  69  70  71  72  73\n",
      "  74  75  76  77  78  79  80  81  82  83  84  85  86  87  88  89  90  91\n",
      "  92  93  94  95  96  97  98  99 100 101 102 103 104 105 106 107 108 109\n",
      " 110 111 112 113 114 115 116 117 118 119 120 121 122 123 124 125 126 127\n",
      " 128 129 130 131 132 133 134 135 136 137 138 139 140 141 142 143 144 145\n",
      " 146 147 148 149]\n",
      " Test:  index=[0 1]\n"
     ]
    }
   ],
   "source": [
    "for i, (train_index, test_index) in enumerate(lpo.split(X)):\n",
    "    print(f\"Fold {i+1}:\")\n",
    "    print('Train: index={}\\n Test:  index={}'.format(train_index, test_index))\n",
    "\n",
    "    X_train, X_test = X[train_index], X[test_index]\n",
    "    y_train, y_test = y[train_index], y[test_index]\n",
    "    break"
   ],
   "metadata": {
    "collapsed": false,
    "ExecuteTime": {
     "end_time": "2023-05-16T08:08:13.772142Z",
     "start_time": "2023-05-16T08:08:13.725230200Z"
    }
   }
  },
  {
   "cell_type": "code",
   "execution_count": 25,
   "outputs": [
    {
     "name": "stdout",
     "output_type": "stream",
     "text": [
      "Кросс-валидация:  [1. 1. 1. ... 1. 1. 1.]\n",
      "Среднее по кросс-валидации:  0.9405219985085758\n"
     ]
    }
   ],
   "source": [
    "cv_results = cross_val_score(model,                  # модель\n",
    "                             X,                      # матрица признаков\n",
    "                             y,                      # вектор цели\n",
    "                             cv = lpo,           # тип разбиения\n",
    "                             scoring = 'f1_macro',   # метрика\n",
    "                             n_jobs=-1)              # используются все ядра CPU\n",
    "\n",
    "print(\"Кросс-валидация: \", cv_results)\n",
    "print(\"Среднее по кросс-валидации: \", cv_results.mean())"
   ],
   "metadata": {
    "collapsed": false,
    "ExecuteTime": {
     "end_time": "2023-05-16T08:08:45.286405700Z",
     "start_time": "2023-05-16T08:08:39.878884500Z"
    }
   }
  },
  {
   "cell_type": "code",
   "execution_count": 23,
   "outputs": [],
   "source": [
    "from sklearn.model_selection import cross_validate\n",
    "scoring = ['accuracy', 'precision_macro', 'recall_macro', 'f1_macro']\n",
    "scores = cross_validate(model, X, y, scoring=scoring, cv=kf)"
   ],
   "metadata": {
    "collapsed": false,
    "ExecuteTime": {
     "end_time": "2023-05-16T08:08:16.839304900Z",
     "start_time": "2023-05-16T08:08:16.776799400Z"
    }
   }
  },
  {
   "cell_type": "code",
   "execution_count": 24,
   "outputs": [
    {
     "name": "stdout",
     "output_type": "stream",
     "text": [
      "Accuracy scores: [0.96 0.96 0.9 ]\n",
      "Precision: [0.95955882 0.96491228 0.89316239]\n",
      "Recall: [0.95955882 0.96491228 0.88935574]\n",
      "F1-score: [0.95955882 0.96296296 0.89065256]\n"
     ]
    }
   ],
   "source": [
    "print(\"Accuracy scores:\", scores['test_accuracy'])\n",
    "print(\"Precision:\", scores['test_precision_macro'])\n",
    "print(\"Recall:\", scores['test_recall_macro'])\n",
    "print(\"F1-score:\", scores['test_f1_macro'])"
   ],
   "metadata": {
    "collapsed": false,
    "ExecuteTime": {
     "end_time": "2023-05-16T08:08:19.895797700Z",
     "start_time": "2023-05-16T08:08:19.864543900Z"
    }
   }
  },
  {
   "cell_type": "code",
   "execution_count": null,
   "outputs": [],
   "source": [],
   "metadata": {
    "collapsed": false
   }
  }
 ],
 "metadata": {
  "kernelspec": {
   "display_name": "Python 3 (ipykernel)",
   "language": "python",
   "name": "python3"
  },
  "language_info": {
   "codemirror_mode": {
    "name": "ipython",
    "version": 3
   },
   "file_extension": ".py",
   "mimetype": "text/x-python",
   "name": "python",
   "nbconvert_exporter": "python",
   "pygments_lexer": "ipython3",
   "version": "3.10.8"
  }
 },
 "nbformat": 4,
 "nbformat_minor": 5
}
